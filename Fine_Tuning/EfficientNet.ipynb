{
  "nbformat": 4,
  "nbformat_minor": 0,
  "metadata": {
    "colab": {
      "provenance": [],
      "gpuType": "T4"
    },
    "kernelspec": {
      "name": "python3",
      "display_name": "Python 3"
    },
    "language_info": {
      "name": "python"
    },
    "accelerator": "GPU"
  },
  "cells": [
    {
      "cell_type": "markdown",
      "source": [
        "# Installing Required Libraries"
      ],
      "metadata": {
        "id": "jjr4nnMsxs9_"
      }
    },
    {
      "cell_type": "code",
      "execution_count": 1,
      "metadata": {
        "id": "lzGC2N819k-E",
        "colab": {
          "base_uri": "https://localhost:8080/"
        },
        "outputId": "7f690905-6daf-4c31-abd8-dbc0da29acac"
      },
      "outputs": [
        {
          "output_type": "stream",
          "name": "stdout",
          "text": [
            "Requirement already satisfied: torch in /usr/local/lib/python3.11/dist-packages (2.6.0+cu124)\n",
            "Requirement already satisfied: torchvision in /usr/local/lib/python3.11/dist-packages (0.21.0+cu124)\n",
            "Collecting cleanvision\n",
            "  Downloading cleanvision-0.3.6-py3-none-any.whl.metadata (51 kB)\n",
            "\u001b[2K     \u001b[90m━━━━━━━━━━━━━━━━━━━━━━━━━━━━━━━━━━━━━━━━\u001b[0m \u001b[32m51.5/51.5 kB\u001b[0m \u001b[31m4.2 MB/s\u001b[0m eta \u001b[36m0:00:00\u001b[0m\n",
            "\u001b[?25hRequirement already satisfied: scikit-learn in /usr/local/lib/python3.11/dist-packages (1.6.1)\n",
            "Requirement already satisfied: matplotlib in /usr/local/lib/python3.11/dist-packages (3.10.0)\n",
            "Requirement already satisfied: numpy in /usr/local/lib/python3.11/dist-packages (2.0.2)\n",
            "Collecting onnx\n",
            "  Downloading onnx-1.17.0-cp311-cp311-manylinux_2_17_x86_64.manylinux2014_x86_64.whl.metadata (16 kB)\n",
            "Requirement already satisfied: opencv-python-headless in /usr/local/lib/python3.11/dist-packages (4.11.0.86)\n",
            "Requirement already satisfied: pillow in /usr/local/lib/python3.11/dist-packages (11.1.0)\n",
            "Requirement already satisfied: filelock in /usr/local/lib/python3.11/dist-packages (from torch) (3.18.0)\n",
            "Requirement already satisfied: typing-extensions>=4.10.0 in /usr/local/lib/python3.11/dist-packages (from torch) (4.12.2)\n",
            "Requirement already satisfied: networkx in /usr/local/lib/python3.11/dist-packages (from torch) (3.4.2)\n",
            "Requirement already satisfied: jinja2 in /usr/local/lib/python3.11/dist-packages (from torch) (3.1.6)\n",
            "Requirement already satisfied: fsspec in /usr/local/lib/python3.11/dist-packages (from torch) (2025.3.0)\n",
            "Collecting nvidia-cuda-nvrtc-cu12==12.4.127 (from torch)\n",
            "  Downloading nvidia_cuda_nvrtc_cu12-12.4.127-py3-none-manylinux2014_x86_64.whl.metadata (1.5 kB)\n",
            "Collecting nvidia-cuda-runtime-cu12==12.4.127 (from torch)\n",
            "  Downloading nvidia_cuda_runtime_cu12-12.4.127-py3-none-manylinux2014_x86_64.whl.metadata (1.5 kB)\n",
            "Collecting nvidia-cuda-cupti-cu12==12.4.127 (from torch)\n",
            "  Downloading nvidia_cuda_cupti_cu12-12.4.127-py3-none-manylinux2014_x86_64.whl.metadata (1.6 kB)\n",
            "Collecting nvidia-cudnn-cu12==9.1.0.70 (from torch)\n",
            "  Downloading nvidia_cudnn_cu12-9.1.0.70-py3-none-manylinux2014_x86_64.whl.metadata (1.6 kB)\n",
            "Collecting nvidia-cublas-cu12==12.4.5.8 (from torch)\n",
            "  Downloading nvidia_cublas_cu12-12.4.5.8-py3-none-manylinux2014_x86_64.whl.metadata (1.5 kB)\n",
            "Collecting nvidia-cufft-cu12==11.2.1.3 (from torch)\n",
            "  Downloading nvidia_cufft_cu12-11.2.1.3-py3-none-manylinux2014_x86_64.whl.metadata (1.5 kB)\n",
            "Collecting nvidia-curand-cu12==10.3.5.147 (from torch)\n",
            "  Downloading nvidia_curand_cu12-10.3.5.147-py3-none-manylinux2014_x86_64.whl.metadata (1.5 kB)\n",
            "Collecting nvidia-cusolver-cu12==11.6.1.9 (from torch)\n",
            "  Downloading nvidia_cusolver_cu12-11.6.1.9-py3-none-manylinux2014_x86_64.whl.metadata (1.6 kB)\n",
            "Collecting nvidia-cusparse-cu12==12.3.1.170 (from torch)\n",
            "  Downloading nvidia_cusparse_cu12-12.3.1.170-py3-none-manylinux2014_x86_64.whl.metadata (1.6 kB)\n",
            "Requirement already satisfied: nvidia-cusparselt-cu12==0.6.2 in /usr/local/lib/python3.11/dist-packages (from torch) (0.6.2)\n",
            "Requirement already satisfied: nvidia-nccl-cu12==2.21.5 in /usr/local/lib/python3.11/dist-packages (from torch) (2.21.5)\n",
            "Requirement already satisfied: nvidia-nvtx-cu12==12.4.127 in /usr/local/lib/python3.11/dist-packages (from torch) (12.4.127)\n",
            "Collecting nvidia-nvjitlink-cu12==12.4.127 (from torch)\n",
            "  Downloading nvidia_nvjitlink_cu12-12.4.127-py3-none-manylinux2014_x86_64.whl.metadata (1.5 kB)\n",
            "Requirement already satisfied: triton==3.2.0 in /usr/local/lib/python3.11/dist-packages (from torch) (3.2.0)\n",
            "Requirement already satisfied: sympy==1.13.1 in /usr/local/lib/python3.11/dist-packages (from torch) (1.13.1)\n",
            "Requirement already satisfied: mpmath<1.4,>=1.1.0 in /usr/local/lib/python3.11/dist-packages (from sympy==1.13.1->torch) (1.3.0)\n",
            "Requirement already satisfied: pandas>=1.1.5 in /usr/local/lib/python3.11/dist-packages (from cleanvision) (2.2.2)\n",
            "Requirement already satisfied: tabulate>=0.8.3 in /usr/local/lib/python3.11/dist-packages (from cleanvision) (0.9.0)\n",
            "Collecting imagehash>=4.2.0 (from cleanvision)\n",
            "  Downloading ImageHash-4.3.2-py2.py3-none-any.whl.metadata (8.4 kB)\n",
            "Requirement already satisfied: tqdm>=4.53.0 in /usr/local/lib/python3.11/dist-packages (from cleanvision) (4.67.1)\n",
            "Requirement already satisfied: scipy>=1.6.0 in /usr/local/lib/python3.11/dist-packages (from scikit-learn) (1.14.1)\n",
            "Requirement already satisfied: joblib>=1.2.0 in /usr/local/lib/python3.11/dist-packages (from scikit-learn) (1.4.2)\n",
            "Requirement already satisfied: threadpoolctl>=3.1.0 in /usr/local/lib/python3.11/dist-packages (from scikit-learn) (3.6.0)\n",
            "Requirement already satisfied: contourpy>=1.0.1 in /usr/local/lib/python3.11/dist-packages (from matplotlib) (1.3.1)\n",
            "Requirement already satisfied: cycler>=0.10 in /usr/local/lib/python3.11/dist-packages (from matplotlib) (0.12.1)\n",
            "Requirement already satisfied: fonttools>=4.22.0 in /usr/local/lib/python3.11/dist-packages (from matplotlib) (4.56.0)\n",
            "Requirement already satisfied: kiwisolver>=1.3.1 in /usr/local/lib/python3.11/dist-packages (from matplotlib) (1.4.8)\n",
            "Requirement already satisfied: packaging>=20.0 in /usr/local/lib/python3.11/dist-packages (from matplotlib) (24.2)\n",
            "Requirement already satisfied: pyparsing>=2.3.1 in /usr/local/lib/python3.11/dist-packages (from matplotlib) (3.2.1)\n",
            "Requirement already satisfied: python-dateutil>=2.7 in /usr/local/lib/python3.11/dist-packages (from matplotlib) (2.8.2)\n",
            "Requirement already satisfied: protobuf>=3.20.2 in /usr/local/lib/python3.11/dist-packages (from onnx) (5.29.3)\n",
            "Collecting PyWavelets (from imagehash>=4.2.0->cleanvision)\n",
            "  Downloading pywavelets-1.8.0-cp311-cp311-manylinux_2_17_x86_64.manylinux2014_x86_64.whl.metadata (9.0 kB)\n",
            "Requirement already satisfied: pytz>=2020.1 in /usr/local/lib/python3.11/dist-packages (from pandas>=1.1.5->cleanvision) (2025.1)\n",
            "Requirement already satisfied: tzdata>=2022.7 in /usr/local/lib/python3.11/dist-packages (from pandas>=1.1.5->cleanvision) (2025.1)\n",
            "Requirement already satisfied: six>=1.5 in /usr/local/lib/python3.11/dist-packages (from python-dateutil>=2.7->matplotlib) (1.17.0)\n",
            "Requirement already satisfied: MarkupSafe>=2.0 in /usr/local/lib/python3.11/dist-packages (from jinja2->torch) (3.0.2)\n",
            "Downloading nvidia_cublas_cu12-12.4.5.8-py3-none-manylinux2014_x86_64.whl (363.4 MB)\n",
            "\u001b[2K   \u001b[90m━━━━━━━━━━━━━━━━━━━━━━━━━━━━━━━━━━━━━━━━\u001b[0m \u001b[32m363.4/363.4 MB\u001b[0m \u001b[31m3.2 MB/s\u001b[0m eta \u001b[36m0:00:00\u001b[0m\n",
            "\u001b[?25hDownloading nvidia_cuda_cupti_cu12-12.4.127-py3-none-manylinux2014_x86_64.whl (13.8 MB)\n",
            "\u001b[2K   \u001b[90m━━━━━━━━━━━━━━━━━━━━━━━━━━━━━━━━━━━━━━━━\u001b[0m \u001b[32m13.8/13.8 MB\u001b[0m \u001b[31m112.7 MB/s\u001b[0m eta \u001b[36m0:00:00\u001b[0m\n",
            "\u001b[?25hDownloading nvidia_cuda_nvrtc_cu12-12.4.127-py3-none-manylinux2014_x86_64.whl (24.6 MB)\n",
            "\u001b[2K   \u001b[90m━━━━━━━━━━━━━━━━━━━━━━━━━━━━━━━━━━━━━━━━\u001b[0m \u001b[32m24.6/24.6 MB\u001b[0m \u001b[31m60.5 MB/s\u001b[0m eta \u001b[36m0:00:00\u001b[0m\n",
            "\u001b[?25hDownloading nvidia_cuda_runtime_cu12-12.4.127-py3-none-manylinux2014_x86_64.whl (883 kB)\n",
            "\u001b[2K   \u001b[90m━━━━━━━━━━━━━━━━━━━━━━━━━━━━━━━━━━━━━━━━\u001b[0m \u001b[32m883.7/883.7 kB\u001b[0m \u001b[31m38.0 MB/s\u001b[0m eta \u001b[36m0:00:00\u001b[0m\n",
            "\u001b[?25hDownloading nvidia_cudnn_cu12-9.1.0.70-py3-none-manylinux2014_x86_64.whl (664.8 MB)\n",
            "\u001b[2K   \u001b[90m━━━━━━━━━━━━━━━━━━━━━━━━━━━━━━━━━━━━━━━━\u001b[0m \u001b[32m664.8/664.8 MB\u001b[0m \u001b[31m2.0 MB/s\u001b[0m eta \u001b[36m0:00:00\u001b[0m\n",
            "\u001b[?25hDownloading nvidia_cufft_cu12-11.2.1.3-py3-none-manylinux2014_x86_64.whl (211.5 MB)\n",
            "\u001b[2K   \u001b[90m━━━━━━━━━━━━━━━━━━━━━━━━━━━━━━━━━━━━━━━━\u001b[0m \u001b[32m211.5/211.5 MB\u001b[0m \u001b[31m5.5 MB/s\u001b[0m eta \u001b[36m0:00:00\u001b[0m\n",
            "\u001b[?25hDownloading nvidia_curand_cu12-10.3.5.147-py3-none-manylinux2014_x86_64.whl (56.3 MB)\n",
            "\u001b[2K   \u001b[90m━━━━━━━━━━━━━━━━━━━━━━━━━━━━━━━━━━━━━━━━\u001b[0m \u001b[32m56.3/56.3 MB\u001b[0m \u001b[31m12.3 MB/s\u001b[0m eta \u001b[36m0:00:00\u001b[0m\n",
            "\u001b[?25hDownloading nvidia_cusolver_cu12-11.6.1.9-py3-none-manylinux2014_x86_64.whl (127.9 MB)\n",
            "\u001b[2K   \u001b[90m━━━━━━━━━━━━━━━━━━━━━━━━━━━━━━━━━━━━━━━━\u001b[0m \u001b[32m127.9/127.9 MB\u001b[0m \u001b[31m7.6 MB/s\u001b[0m eta \u001b[36m0:00:00\u001b[0m\n",
            "\u001b[?25hDownloading nvidia_cusparse_cu12-12.3.1.170-py3-none-manylinux2014_x86_64.whl (207.5 MB)\n",
            "\u001b[2K   \u001b[90m━━━━━━━━━━━━━━━━━━━━━━━━━━━━━━━━━━━━━━━━\u001b[0m \u001b[32m207.5/207.5 MB\u001b[0m \u001b[31m5.4 MB/s\u001b[0m eta \u001b[36m0:00:00\u001b[0m\n",
            "\u001b[?25hDownloading nvidia_nvjitlink_cu12-12.4.127-py3-none-manylinux2014_x86_64.whl (21.1 MB)\n",
            "\u001b[2K   \u001b[90m━━━━━━━━━━━━━━━━━━━━━━━━━━━━━━━━━━━━━━━━\u001b[0m \u001b[32m21.1/21.1 MB\u001b[0m \u001b[31m70.9 MB/s\u001b[0m eta \u001b[36m0:00:00\u001b[0m\n",
            "\u001b[?25hDownloading cleanvision-0.3.6-py3-none-any.whl (55 kB)\n",
            "\u001b[2K   \u001b[90m━━━━━━━━━━━━━━━━━━━━━━━━━━━━━━━━━━━━━━━━\u001b[0m \u001b[32m55.9/55.9 kB\u001b[0m \u001b[31m4.6 MB/s\u001b[0m eta \u001b[36m0:00:00\u001b[0m\n",
            "\u001b[?25hDownloading onnx-1.17.0-cp311-cp311-manylinux_2_17_x86_64.manylinux2014_x86_64.whl (16.0 MB)\n",
            "\u001b[2K   \u001b[90m━━━━━━━━━━━━━━━━━━━━━━━━━━━━━━━━━━━━━━━━\u001b[0m \u001b[32m16.0/16.0 MB\u001b[0m \u001b[31m74.5 MB/s\u001b[0m eta \u001b[36m0:00:00\u001b[0m\n",
            "\u001b[?25hDownloading ImageHash-4.3.2-py2.py3-none-any.whl (296 kB)\n",
            "\u001b[2K   \u001b[90m━━━━━━━━━━━━━━━━━━━━━━━━━━━━━━━━━━━━━━━━\u001b[0m \u001b[32m296.7/296.7 kB\u001b[0m \u001b[31m19.0 MB/s\u001b[0m eta \u001b[36m0:00:00\u001b[0m\n",
            "\u001b[?25hDownloading pywavelets-1.8.0-cp311-cp311-manylinux_2_17_x86_64.manylinux2014_x86_64.whl (4.5 MB)\n",
            "\u001b[2K   \u001b[90m━━━━━━━━━━━━━━━━━━━━━━━━━━━━━━━━━━━━━━━━\u001b[0m \u001b[32m4.5/4.5 MB\u001b[0m \u001b[31m78.0 MB/s\u001b[0m eta \u001b[36m0:00:00\u001b[0m\n",
            "\u001b[?25hInstalling collected packages: PyWavelets, onnx, nvidia-nvjitlink-cu12, nvidia-curand-cu12, nvidia-cufft-cu12, nvidia-cuda-runtime-cu12, nvidia-cuda-nvrtc-cu12, nvidia-cuda-cupti-cu12, nvidia-cublas-cu12, nvidia-cusparse-cu12, nvidia-cudnn-cu12, imagehash, nvidia-cusolver-cu12, cleanvision\n",
            "  Attempting uninstall: nvidia-nvjitlink-cu12\n",
            "    Found existing installation: nvidia-nvjitlink-cu12 12.5.82\n",
            "    Uninstalling nvidia-nvjitlink-cu12-12.5.82:\n",
            "      Successfully uninstalled nvidia-nvjitlink-cu12-12.5.82\n",
            "  Attempting uninstall: nvidia-curand-cu12\n",
            "    Found existing installation: nvidia-curand-cu12 10.3.6.82\n",
            "    Uninstalling nvidia-curand-cu12-10.3.6.82:\n",
            "      Successfully uninstalled nvidia-curand-cu12-10.3.6.82\n",
            "  Attempting uninstall: nvidia-cufft-cu12\n",
            "    Found existing installation: nvidia-cufft-cu12 11.2.3.61\n",
            "    Uninstalling nvidia-cufft-cu12-11.2.3.61:\n",
            "      Successfully uninstalled nvidia-cufft-cu12-11.2.3.61\n",
            "  Attempting uninstall: nvidia-cuda-runtime-cu12\n",
            "    Found existing installation: nvidia-cuda-runtime-cu12 12.5.82\n",
            "    Uninstalling nvidia-cuda-runtime-cu12-12.5.82:\n",
            "      Successfully uninstalled nvidia-cuda-runtime-cu12-12.5.82\n",
            "  Attempting uninstall: nvidia-cuda-nvrtc-cu12\n",
            "    Found existing installation: nvidia-cuda-nvrtc-cu12 12.5.82\n",
            "    Uninstalling nvidia-cuda-nvrtc-cu12-12.5.82:\n",
            "      Successfully uninstalled nvidia-cuda-nvrtc-cu12-12.5.82\n",
            "  Attempting uninstall: nvidia-cuda-cupti-cu12\n",
            "    Found existing installation: nvidia-cuda-cupti-cu12 12.5.82\n",
            "    Uninstalling nvidia-cuda-cupti-cu12-12.5.82:\n",
            "      Successfully uninstalled nvidia-cuda-cupti-cu12-12.5.82\n",
            "  Attempting uninstall: nvidia-cublas-cu12\n",
            "    Found existing installation: nvidia-cublas-cu12 12.5.3.2\n",
            "    Uninstalling nvidia-cublas-cu12-12.5.3.2:\n",
            "      Successfully uninstalled nvidia-cublas-cu12-12.5.3.2\n",
            "  Attempting uninstall: nvidia-cusparse-cu12\n",
            "    Found existing installation: nvidia-cusparse-cu12 12.5.1.3\n",
            "    Uninstalling nvidia-cusparse-cu12-12.5.1.3:\n",
            "      Successfully uninstalled nvidia-cusparse-cu12-12.5.1.3\n",
            "  Attempting uninstall: nvidia-cudnn-cu12\n",
            "    Found existing installation: nvidia-cudnn-cu12 9.3.0.75\n",
            "    Uninstalling nvidia-cudnn-cu12-9.3.0.75:\n",
            "      Successfully uninstalled nvidia-cudnn-cu12-9.3.0.75\n",
            "  Attempting uninstall: nvidia-cusolver-cu12\n",
            "    Found existing installation: nvidia-cusolver-cu12 11.6.3.83\n",
            "    Uninstalling nvidia-cusolver-cu12-11.6.3.83:\n",
            "      Successfully uninstalled nvidia-cusolver-cu12-11.6.3.83\n",
            "Successfully installed PyWavelets-1.8.0 cleanvision-0.3.6 imagehash-4.3.2 nvidia-cublas-cu12-12.4.5.8 nvidia-cuda-cupti-cu12-12.4.127 nvidia-cuda-nvrtc-cu12-12.4.127 nvidia-cuda-runtime-cu12-12.4.127 nvidia-cudnn-cu12-9.1.0.70 nvidia-cufft-cu12-11.2.1.3 nvidia-curand-cu12-10.3.5.147 nvidia-cusolver-cu12-11.6.1.9 nvidia-cusparse-cu12-12.3.1.170 nvidia-nvjitlink-cu12-12.4.127 onnx-1.17.0\n"
          ]
        }
      ],
      "source": [
        "!pip install torch torchvision cleanvision scikit-learn matplotlib numpy onnx opencv-python-headless pillow"
      ]
    },
    {
      "cell_type": "markdown",
      "source": [
        "# Importing Libraries"
      ],
      "metadata": {
        "id": "8A2v0jcvyXNB"
      }
    },
    {
      "cell_type": "code",
      "source": [
        "import torch\n",
        "import torch.nn as nn\n",
        "import torch.optim as optim\n",
        "import torchvision\n",
        "import torchvision.transforms as transforms\n",
        "from torch.utils.data import DataLoader\n",
        "from torchvision.datasets import ImageFolder\n",
        "import os\n",
        "import numpy as np\n",
        "from sklearn.metrics import precision_score, recall_score, f1_score, confusion_matrix\n",
        "import matplotlib.pyplot as plt\n",
        "from google.colab import drive\n",
        "import shutil\n",
        "from cleanvision import Imagelab"
      ],
      "metadata": {
        "id": "PhbT_JP7Akwd"
      },
      "execution_count": 4,
      "outputs": []
    },
    {
      "cell_type": "code",
      "source": [
        "from google.colab import drive\n",
        "drive.mount('/content/drive')"
      ],
      "metadata": {
        "colab": {
          "base_uri": "https://localhost:8080/"
        },
        "id": "k_EIqiA4yMv0",
        "outputId": "e2b59edd-d1a2-463c-cc1d-a419e73e8319"
      },
      "execution_count": 5,
      "outputs": [
        {
          "output_type": "stream",
          "name": "stdout",
          "text": [
            "Mounted at /content/drive\n"
          ]
        }
      ]
    },
    {
      "cell_type": "markdown",
      "source": [
        "# Hyperparameters"
      ],
      "metadata": {
        "id": "rViM6pJ3yUb5"
      }
    },
    {
      "cell_type": "code",
      "source": [
        "image_size = 224\n",
        "num_classes = 12\n",
        "num_epochs = 10\n",
        "batch_size = 64\n",
        "learning_rate = 0.001"
      ],
      "metadata": {
        "id": "ZQwCX0T_Ani_"
      },
      "execution_count": 6,
      "outputs": []
    },
    {
      "cell_type": "code",
      "source": [
        "device = torch.device(\"cuda\" if torch.cuda.is_available() else \"cpu\")\n",
        "print(f\"Using device: {device}\")"
      ],
      "metadata": {
        "id": "IA1IpMX8Ar44",
        "colab": {
          "base_uri": "https://localhost:8080/"
        },
        "outputId": "d1fe6f09-91c1-447f-b165-36d13c375c2f"
      },
      "execution_count": 7,
      "outputs": [
        {
          "output_type": "stream",
          "name": "stdout",
          "text": [
            "Using device: cuda\n"
          ]
        }
      ]
    },
    {
      "cell_type": "markdown",
      "source": [
        "# Directories"
      ],
      "metadata": {
        "id": "VWk4ylz-x3Jp"
      }
    },
    {
      "cell_type": "code",
      "source": [
        "# Directories\n",
        "train_dir = \"/content/drive/MyDrive/I2V/cleaned_train\"\n",
        "val_dir = \"/content/drive/MyDrive/I2V/val\"\n",
        "output_dir = \"/content/drive/MyDrive/I2V/EfficientNet\"\n",
        "# metrics_file = os.path.join(output_dir, \"training_metrics.txt\")\n",
        "os.makedirs(output_dir, exist_ok=True)"
      ],
      "metadata": {
        "id": "cHg_gQx-yibv"
      },
      "execution_count": 8,
      "outputs": []
    },
    {
      "cell_type": "code",
      "source": [
        "# Data transforms\n",
        "train_transforms = transforms.Compose([\n",
        "    transforms.Resize((image_size, image_size)),\n",
        "    transforms.RandomHorizontalFlip(),\n",
        "    transforms.RandomRotation(10),\n",
        "    transforms.ToTensor(),\n",
        "    transforms.Normalize(mean=[0.485, 0.456, 0.406], std=[0.229, 0.224, 0.225]),\n",
        "])\n",
        "val_transforms = transforms.Compose([\n",
        "    transforms.Resize((image_size, image_size)),\n",
        "    transforms.ToTensor(),\n",
        "    transforms.Normalize(mean=[0.485, 0.456, 0.406], std=[0.229, 0.224, 0.225]),\n",
        "])"
      ],
      "metadata": {
        "id": "EqzsAt4X0h4L"
      },
      "execution_count": 9,
      "outputs": []
    },
    {
      "cell_type": "code",
      "source": [
        "# Load datasets\n",
        "train_dataset = ImageFolder(root=train_dir, transform=train_transforms)\n",
        "val_dataset = ImageFolder(root=val_dir, transform=val_transforms)\n",
        "train_loader = DataLoader(train_dataset, batch_size=batch_size, shuffle=True, num_workers=4)\n",
        "val_loader = DataLoader(val_dataset, batch_size=batch_size, shuffle=False, num_workers=4)"
      ],
      "metadata": {
        "id": "fqnpyh1GFhza",
        "colab": {
          "base_uri": "https://localhost:8080/"
        },
        "outputId": "44539ab7-5835-480c-a2c0-5cdc40c33949"
      },
      "execution_count": 10,
      "outputs": [
        {
          "output_type": "stream",
          "name": "stderr",
          "text": [
            "/usr/local/lib/python3.11/dist-packages/torch/utils/data/dataloader.py:624: UserWarning: This DataLoader will create 4 worker processes in total. Our suggested max number of worker in current system is 2, which is smaller than what this DataLoader is going to create. Please be aware that excessive worker creation might get DataLoader running slow or even freeze, lower the worker number to avoid potential slowness/freeze if necessary.\n",
            "  warnings.warn(\n"
          ]
        }
      ]
    },
    {
      "cell_type": "markdown",
      "source": [
        "# Loading pre-trained efficientnet_b0"
      ],
      "metadata": {
        "id": "L_SJlC5Q1BdA"
      }
    },
    {
      "cell_type": "code",
      "source": [
        "import torchvision.models as models\n",
        "import torch.nn as nn\n",
        "\n",
        "# Load pre-trained EfficientNet (using B0 variant as an example)\n",
        "model = models.efficientnet_b0(pretrained=True)\n",
        "model.classifier[1] = nn.Linear(model.classifier[1].in_features, num_classes)\n",
        "model = model.to(device)"
      ],
      "metadata": {
        "id": "jRAH4mrKyrd7",
        "colab": {
          "base_uri": "https://localhost:8080/"
        },
        "outputId": "4cc519ea-2dcd-425c-a839-733917f906b5"
      },
      "execution_count": 11,
      "outputs": [
        {
          "output_type": "stream",
          "name": "stderr",
          "text": [
            "/usr/local/lib/python3.11/dist-packages/torchvision/models/_utils.py:208: UserWarning: The parameter 'pretrained' is deprecated since 0.13 and may be removed in the future, please use 'weights' instead.\n",
            "  warnings.warn(\n",
            "/usr/local/lib/python3.11/dist-packages/torchvision/models/_utils.py:223: UserWarning: Arguments other than a weight enum or `None` for 'weights' are deprecated since 0.13 and may be removed in the future. The current behavior is equivalent to passing `weights=EfficientNet_B0_Weights.IMAGENET1K_V1`. You can also use `weights=EfficientNet_B0_Weights.DEFAULT` to get the most up-to-date weights.\n",
            "  warnings.warn(msg)\n",
            "Downloading: \"https://download.pytorch.org/models/efficientnet_b0_rwightman-7f5810bc.pth\" to /root/.cache/torch/hub/checkpoints/efficientnet_b0_rwightman-7f5810bc.pth\n",
            "100%|██████████| 20.5M/20.5M [00:00<00:00, 109MB/s] \n"
          ]
        }
      ]
    },
    {
      "cell_type": "code",
      "source": [
        "# Loss and optimizer\n",
        "optimizer = optim.Adam(filter(lambda p: p.requires_grad, model.parameters()), lr=learning_rate)\n",
        "criterion = nn.CrossEntropyLoss()"
      ],
      "metadata": {
        "id": "XuymVrOVyrgn"
      },
      "execution_count": 12,
      "outputs": []
    },
    {
      "cell_type": "markdown",
      "source": [
        "# Initialize metrics\n"
      ],
      "metadata": {
        "id": "BlQsqIl71JVL"
      }
    },
    {
      "cell_type": "code",
      "source": [
        "# Function to compute mAP (simplified for multi-class classification)\n",
        "def compute_map(true_labels, pred_probs, num_classes):\n",
        "    # Convert to binary relevance (one-hot encoded true labels)\n",
        "    true_labels_one_hot = np.zeros((len(true_labels), num_classes))\n",
        "    for i, label in enumerate(true_labels):\n",
        "        true_labels_one_hot[i, label] = 1\n",
        "\n",
        "    # Compute Average Precision per class and mean\n",
        "    average_precisions = []\n",
        "    for c in range(num_classes):\n",
        "        true_c = true_labels_one_hot[:, c]\n",
        "        scores_c = pred_probs[:, c]\n",
        "        if true_c.sum() == 0:  # Skip if no positive instances\n",
        "            continue\n",
        "        sorted_indices = np.argsort(scores_c)[::-1]\n",
        "        true_c_sorted = true_c[sorted_indices]\n",
        "        precision_at_k = np.cumsum(true_c_sorted) / (np.arange(len(true_c_sorted)) + 1)\n",
        "        ap = np.sum(precision_at_k * true_c_sorted) / max(true_c.sum(), 1)\n",
        "        average_precisions.append(ap)\n",
        "\n",
        "    return np.mean(average_precisions) if average_precisions else 0.0"
      ],
      "metadata": {
        "id": "KyStw8Zgyri4"
      },
      "execution_count": 13,
      "outputs": []
    },
    {
      "cell_type": "code",
      "source": [
        "def compute_metrics(true_labels, pred_labels, pred_probs, epoch, save_file):\n",
        "    accuracy = 100 * (true_labels == pred_labels).mean()\n",
        "    precision = precision_score(true_labels, pred_labels, average='weighted', zero_division=0)\n",
        "    recall = recall_score(true_labels, pred_labels, average='weighted', zero_division=0)\n",
        "    f1 = f1_score(true_labels, pred_labels, average='weighted', zero_division=0)\n",
        "    m_ap = compute_map(true_labels, pred_probs, num_classes)\n",
        "    cm = confusion_matrix(true_labels, pred_labels)\n",
        "\n",
        "    metrics_str = (\n",
        "        f\"Validation Metrics - Epoch {epoch+1}:\\n\"\n",
        "        f\"Accuracy: {accuracy:.2f}%\\n\"\n",
        "        f\"Precision: {precision:.4f}\\n\"\n",
        "        f\"Recall: {recall:.4f}\\n\"\n",
        "        f\"F1 Score: {f1:.4f}\\n\"\n",
        "        f\"mAP: {m_ap:.4f}\\n\"\n",
        "        f\"Confusion Matrix:\\n{cm}\\n\\n\"\n",
        "    )\n",
        "    print(metrics_str)\n",
        "\n",
        "    with open(save_file, 'a') as f:\n",
        "        f.write(metrics_str)\n",
        "\n",
        "    return accuracy, cm"
      ],
      "metadata": {
        "id": "SqP0-_MbyrlT"
      },
      "execution_count": 14,
      "outputs": []
    },
    {
      "cell_type": "code",
      "source": [
        "# Training loop with learning curves\n",
        "train_losses = []\n",
        "val_losses = []\n",
        "train_accuracies = []\n",
        "val_accuracies = []\n",
        "best_val_acc = 0.0"
      ],
      "metadata": {
        "id": "qnfM5wzvyrnc"
      },
      "execution_count": 15,
      "outputs": []
    },
    {
      "cell_type": "code",
      "source": [
        "# Initialize metrics file\n",
        "with open(os.path.join(output_dir, \"training_metrics.txt\"), 'w') as f:\n",
        "    f.write(\"Training Metrics Log\\n\\n\")"
      ],
      "metadata": {
        "id": "DZCe1viuyrqS"
      },
      "execution_count": 16,
      "outputs": []
    },
    {
      "cell_type": "code",
      "source": [
        "metrics_file = \"/content/drive/MyDrive/I2V/EfficientNet/training_metrics.txt\""
      ],
      "metadata": {
        "id": "s6s0sVKmp9Qq"
      },
      "execution_count": 17,
      "outputs": []
    },
    {
      "cell_type": "markdown",
      "source": [
        "# Training and Validation"
      ],
      "metadata": {
        "id": "l3KeXF44x-6N"
      }
    },
    {
      "cell_type": "code",
      "source": [
        "for epoch in range(num_epochs):\n",
        "    model.train()\n",
        "    running_loss = 0.0\n",
        "\n",
        "    for images, labels in train_loader:\n",
        "        images, labels = images.to(device), labels.to(device)\n",
        "        optimizer.zero_grad()\n",
        "        # EfficientNet returns only one output (no aux_outputs)\n",
        "        outputs = model(images)\n",
        "        # Compute loss for the single output\n",
        "        loss = criterion(outputs, labels)\n",
        "        loss.backward()\n",
        "        optimizer.step()\n",
        "        running_loss += loss.item()\n",
        "\n",
        "    train_loss = running_loss / len(train_loader)\n",
        "    train_losses.append(train_loss)\n",
        "    print(f\"Epoch [{epoch+1}/{num_epochs}], Train Loss: {train_loss:.4f}\")\n",
        "\n",
        "    # Validation phase\n",
        "    model.eval()\n",
        "    val_loss = 0.0\n",
        "    val_true = []\n",
        "    val_pred = []\n",
        "    val_probs = []\n",
        "\n",
        "    with torch.no_grad():\n",
        "        for images, labels in val_loader:\n",
        "            images, labels = images.to(device), labels.to(device)\n",
        "            outputs = model(images)  # Single output\n",
        "            loss = criterion(outputs, labels)\n",
        "            val_loss += loss.item()\n",
        "            probs = torch.softmax(outputs, dim=1).detach().cpu().numpy()\n",
        "            _, predicted = torch.max(outputs, 1)\n",
        "            val_true.extend(labels.cpu().numpy())\n",
        "            val_pred.extend(predicted.cpu().numpy())\n",
        "            val_probs.extend(probs)\n",
        "\n",
        "    val_loss = val_loss / len(val_loader)\n",
        "    val_losses.append(val_loss)\n",
        "    val_acc, cm = compute_metrics(np.array(val_true), np.array(val_pred), np.array(val_probs), epoch, metrics_file)\n",
        "    val_accuracies.append(val_acc)\n",
        "    print(f\"Validation Loss: {val_loss:.4f}\")\n",
        "\n",
        "    if val_acc > best_val_acc:\n",
        "        best_val_acc = val_acc\n",
        "        torch.save(model, os.path.join(output_dir, \"efficientnet_b0_best.pt\"))\n",
        "        print(f\"Saved best model with Validation Accuracy: {val_acc:.2f}%\")"
      ],
      "metadata": {
        "id": "BpQDUbvyy_oH",
        "colab": {
          "base_uri": "https://localhost:8080/"
        },
        "outputId": "840767f9-eaf9-4a0c-e6e8-7f1d739a612e"
      },
      "execution_count": 19,
      "outputs": [
        {
          "output_type": "stream",
          "name": "stdout",
          "text": [
            "Epoch [1/10], Train Loss: 1.0443\n",
            "Validation Metrics - Epoch 1:\n",
            "Accuracy: 79.74%\n",
            "Precision: 0.8243\n",
            "Recall: 0.7974\n",
            "F1 Score: 0.7967\n",
            "mAP: 0.9212\n",
            "Confusion Matrix:\n",
            "[[116   1   6   0   2   0   1   2   0   0   9   0]\n",
            " [  0  61   0   0   1   0   0   7   0   0   0   0]\n",
            " [  5   0  61   1   1   0   2   0   0   0   1   0]\n",
            " [  4   0   6  20   0   0   0   1   0   0   2   2]\n",
            " [  0   0   0   0   6   0   0   0   0   0   0   0]\n",
            " [  0   0   0   0   0   0   0   0   0   0   0   1]\n",
            " [  5   0   2   1   1   0  81   0   0   0   8   4]\n",
            " [  0   3   0   0   0   0   0  66   0   0   0   0]\n",
            " [  1   0   0   0   7   0   0   1   2   0   1   0]\n",
            " [  0   0   0   0   0   0   0   0   0   3   0   0]\n",
            " [ 10   1  37   2   0   0   6   0   0   0  98   3]\n",
            " [  1   0   4   0   0   0   0   0   0   0   2  96]]\n",
            "\n",
            "\n",
            "Validation Loss: 0.5556\n",
            "Saved best model with Validation Accuracy: 79.74%\n"
          ]
        },
        {
          "output_type": "stream",
          "name": "stderr",
          "text": [
            "/usr/local/lib/python3.11/dist-packages/torch/utils/data/dataloader.py:624: UserWarning: This DataLoader will create 4 worker processes in total. Our suggested max number of worker in current system is 2, which is smaller than what this DataLoader is going to create. Please be aware that excessive worker creation might get DataLoader running slow or even freeze, lower the worker number to avoid potential slowness/freeze if necessary.\n",
            "  warnings.warn(\n"
          ]
        },
        {
          "output_type": "stream",
          "name": "stdout",
          "text": [
            "Epoch [2/10], Train Loss: 0.4180\n",
            "Validation Metrics - Epoch 2:\n",
            "Accuracy: 87.32%\n",
            "Precision: 0.8781\n",
            "Recall: 0.8732\n",
            "F1 Score: 0.8741\n",
            "mAP: 0.9485\n",
            "Confusion Matrix:\n",
            "[[121   0   0   1   0   0   0   3   0   0  12   0]\n",
            " [  1  60   0   0   0   0   0   8   0   0   0   0]\n",
            " [  1   0  59   1   1   0   1   0   1   0   6   1]\n",
            " [  1   1   1  29   0   0   0   0   0   0   3   0]\n",
            " [  0   0   0   0   6   0   0   0   0   0   0   0]\n",
            " [  0   0   0   0   0   1   0   0   0   0   0   0]\n",
            " [  2   0   0   3   1   0  92   0   0   1   2   1]\n",
            " [  0   1   0   0   0   0   0  67   1   0   0   0]\n",
            " [  0   0   0   0   3   0   0   0   9   0   0   0]\n",
            " [  0   0   0   0   0   0   0   0   0   3   0   0]\n",
            " [  7   0  12   4   0   0   7   1   0   0 125   1]\n",
            " [  1   0   1   2   0   0   1   0   0   0   2  96]]\n",
            "\n",
            "\n",
            "Validation Loss: 0.3875\n",
            "Saved best model with Validation Accuracy: 87.32%\n"
          ]
        },
        {
          "output_type": "stream",
          "name": "stderr",
          "text": [
            "/usr/local/lib/python3.11/dist-packages/torch/utils/data/dataloader.py:624: UserWarning: This DataLoader will create 4 worker processes in total. Our suggested max number of worker in current system is 2, which is smaller than what this DataLoader is going to create. Please be aware that excessive worker creation might get DataLoader running slow or even freeze, lower the worker number to avoid potential slowness/freeze if necessary.\n",
            "  warnings.warn(\n"
          ]
        },
        {
          "output_type": "stream",
          "name": "stdout",
          "text": [
            "Epoch [3/10], Train Loss: 0.2468\n",
            "Validation Metrics - Epoch 3:\n",
            "Accuracy: 87.58%\n",
            "Precision: 0.8802\n",
            "Recall: 0.8758\n",
            "F1 Score: 0.8752\n",
            "mAP: 0.9329\n",
            "Confusion Matrix:\n",
            "[[125   0   1   0   0   0   2   1   0   0   7   1]\n",
            " [  0  64   0   0   1   0   0   1   3   0   0   0]\n",
            " [  2   0  53   0   1   1   2   0   0   1   9   2]\n",
            " [  3   1   3  22   0   0   2   0   0   0   3   1]\n",
            " [  0   0   0   0   6   0   0   0   0   0   0   0]\n",
            " [  0   0   0   0   0   1   0   0   0   0   0   0]\n",
            " [  0   0   1   0   0   0  93   0   0   1   4   3]\n",
            " [  0   1   0   0   1   0   0  64   3   0   0   0]\n",
            " [  1   1   0   0   0   0   0   0  10   0   0   0]\n",
            " [  0   0   0   0   0   0   0   0   0   3   0   0]\n",
            " [  8   0   8   1   0   0   7   0   0   0 129   4]\n",
            " [  0   0   1   0   0   0   2   0   0   0   0 100]]\n",
            "\n",
            "\n",
            "Validation Loss: 0.3883\n",
            "Saved best model with Validation Accuracy: 87.58%\n"
          ]
        },
        {
          "output_type": "stream",
          "name": "stderr",
          "text": [
            "/usr/local/lib/python3.11/dist-packages/torch/utils/data/dataloader.py:624: UserWarning: This DataLoader will create 4 worker processes in total. Our suggested max number of worker in current system is 2, which is smaller than what this DataLoader is going to create. Please be aware that excessive worker creation might get DataLoader running slow or even freeze, lower the worker number to avoid potential slowness/freeze if necessary.\n",
            "  warnings.warn(\n"
          ]
        },
        {
          "output_type": "stream",
          "name": "stdout",
          "text": [
            "Epoch [4/10], Train Loss: 0.1695\n",
            "Validation Metrics - Epoch 4:\n",
            "Accuracy: 84.71%\n",
            "Precision: 0.8620\n",
            "Recall: 0.8471\n",
            "F1 Score: 0.8465\n",
            "mAP: 0.9382\n",
            "Confusion Matrix:\n",
            "[[112   0   0   0   3   0   1   2   0   0  17   2]\n",
            " [  0  60   0   0   0   0   0   9   0   0   0   0]\n",
            " [  1   0  47   0   1   1   3   1   0   0  13   4]\n",
            " [  1   0   0  25   0   0   0   1   0   0   7   1]\n",
            " [  0   0   0   0   6   0   0   0   0   0   0   0]\n",
            " [  0   0   0   0   0   1   0   0   0   0   0   0]\n",
            " [  5   0   0   0   1   0  79   0   0   0  11   6]\n",
            " [  0   1   0   0   0   0   0  67   1   0   0   0]\n",
            " [  1   1   0   0   1   0   0   2   7   0   0   0]\n",
            " [  0   0   0   0   0   0   0   0   0   3   0   0]\n",
            " [  3   0   2   2   0   0   4   0   0   0 142   4]\n",
            " [  1   0   0   2   0   0   0   0   0   0   1  99]]\n",
            "\n",
            "\n",
            "Validation Loss: 0.5580\n"
          ]
        },
        {
          "output_type": "stream",
          "name": "stderr",
          "text": [
            "/usr/local/lib/python3.11/dist-packages/torch/utils/data/dataloader.py:624: UserWarning: This DataLoader will create 4 worker processes in total. Our suggested max number of worker in current system is 2, which is smaller than what this DataLoader is going to create. Please be aware that excessive worker creation might get DataLoader running slow or even freeze, lower the worker number to avoid potential slowness/freeze if necessary.\n",
            "  warnings.warn(\n"
          ]
        },
        {
          "output_type": "stream",
          "name": "stdout",
          "text": [
            "Epoch [5/10], Train Loss: 0.1818\n",
            "Validation Metrics - Epoch 5:\n",
            "Accuracy: 86.93%\n",
            "Precision: 0.8772\n",
            "Recall: 0.8693\n",
            "F1 Score: 0.8700\n",
            "mAP: 0.9023\n",
            "Confusion Matrix:\n",
            "[[127   0   2   0   0   0   1   1   0   0   6   0]\n",
            " [  0  67   0   0   0   0   0   0   1   0   1   0]\n",
            " [  0   0  59   0   1   0   5   0   0   0   5   1]\n",
            " [  1   0   2  28   0   1   0   0   0   0   3   0]\n",
            " [  2   0   0   0   4   0   0   0   0   0   0   0]\n",
            " [  0   0   0   0   0   1   0   0   0   0   0   0]\n",
            " [  4   0   0   0   0   0  95   0   0   0   3   0]\n",
            " [  0   6   0   0   0   0   0  62   1   0   0   0]\n",
            " [  1   1   0   0   0   0   0   0  10   0   0   0]\n",
            " [  0   0   0   0   0   0   0   0   0   3   0   0]\n",
            " [  4   1  10   1   0   0  13   0   0   1 126   1]\n",
            " [  0   0   6   4   0   0  10   0   0   0   0  83]]\n",
            "\n",
            "\n",
            "Validation Loss: 0.4189\n"
          ]
        },
        {
          "output_type": "stream",
          "name": "stderr",
          "text": [
            "/usr/local/lib/python3.11/dist-packages/torch/utils/data/dataloader.py:624: UserWarning: This DataLoader will create 4 worker processes in total. Our suggested max number of worker in current system is 2, which is smaller than what this DataLoader is going to create. Please be aware that excessive worker creation might get DataLoader running slow or even freeze, lower the worker number to avoid potential slowness/freeze if necessary.\n",
            "  warnings.warn(\n"
          ]
        },
        {
          "output_type": "stream",
          "name": "stdout",
          "text": [
            "Epoch [6/10], Train Loss: 0.1263\n",
            "Validation Metrics - Epoch 6:\n",
            "Accuracy: 88.63%\n",
            "Precision: 0.8894\n",
            "Recall: 0.8863\n",
            "F1 Score: 0.8868\n",
            "mAP: 0.9450\n",
            "Confusion Matrix:\n",
            "[[123   0   2   0   0   0   0   1   0   0  11   0]\n",
            " [  0  66   0   0   0   0   0   3   0   0   0   0]\n",
            " [  3   0  58   2   1   1   1   1   0   0   3   1]\n",
            " [  0   0   3  30   0   0   0   0   0   0   2   0]\n",
            " [  1   0   0   0   5   0   0   0   0   0   0   0]\n",
            " [  0   0   0   0   0   1   0   0   0   0   0   0]\n",
            " [  4   0   2   1   0   0  90   0   0   0   2   3]\n",
            " [  0   1   0   0   0   0   0  68   0   0   0   0]\n",
            " [  1   0   0   1   0   0   0   0  10   0   0   0]\n",
            " [  0   0   0   0   0   0   0   0   0   3   0   0]\n",
            " [  7   0   7   7   0   0   4   0   0   1 128   3]\n",
            " [  3   0   1   1   0   0   1   0   0   0   1  96]]\n",
            "\n",
            "\n",
            "Validation Loss: 0.4356\n",
            "Saved best model with Validation Accuracy: 88.63%\n"
          ]
        },
        {
          "output_type": "stream",
          "name": "stderr",
          "text": [
            "/usr/local/lib/python3.11/dist-packages/torch/utils/data/dataloader.py:624: UserWarning: This DataLoader will create 4 worker processes in total. Our suggested max number of worker in current system is 2, which is smaller than what this DataLoader is going to create. Please be aware that excessive worker creation might get DataLoader running slow or even freeze, lower the worker number to avoid potential slowness/freeze if necessary.\n",
            "  warnings.warn(\n"
          ]
        },
        {
          "output_type": "stream",
          "name": "stdout",
          "text": [
            "Epoch [7/10], Train Loss: 0.0990\n",
            "Validation Metrics - Epoch 7:\n",
            "Accuracy: 88.76%\n",
            "Precision: 0.8902\n",
            "Recall: 0.8876\n",
            "F1 Score: 0.8860\n",
            "mAP: 0.9326\n",
            "Confusion Matrix:\n",
            "[[131   0   0   0   0   0   0   0   0   0   6   0]\n",
            " [  0  65   0   0   0   0   0   4   0   0   0   0]\n",
            " [  1   1  50   0   1   0   2   0   1   0  10   5]\n",
            " [  1   1   0  28   0   0   0   0   0   0   5   0]\n",
            " [  1   0   0   0   5   0   0   0   0   0   0   0]\n",
            " [  0   0   0   0   0   1   0   0   0   0   0   0]\n",
            " [  2   0   0   0   0   0  96   0   1   0   2   1]\n",
            " [  1   1   0   0   0   0   0  66   1   0   0   0]\n",
            " [  1   0   0   0   0   0   0   0  11   0   0   0]\n",
            " [  0   0   0   0   0   0   0   0   0   3   0   0]\n",
            " [  8   0   3   3   0   1  10   0   0   0 123   9]\n",
            " [  1   0   0   1   0   1   0   0   0   0   0 100]]\n",
            "\n",
            "\n",
            "Validation Loss: 0.4169\n",
            "Saved best model with Validation Accuracy: 88.76%\n"
          ]
        },
        {
          "output_type": "stream",
          "name": "stderr",
          "text": [
            "/usr/local/lib/python3.11/dist-packages/torch/utils/data/dataloader.py:624: UserWarning: This DataLoader will create 4 worker processes in total. Our suggested max number of worker in current system is 2, which is smaller than what this DataLoader is going to create. Please be aware that excessive worker creation might get DataLoader running slow or even freeze, lower the worker number to avoid potential slowness/freeze if necessary.\n",
            "  warnings.warn(\n"
          ]
        },
        {
          "output_type": "stream",
          "name": "stdout",
          "text": [
            "Epoch [8/10], Train Loss: 0.0873\n",
            "Validation Metrics - Epoch 8:\n",
            "Accuracy: 88.24%\n",
            "Precision: 0.8854\n",
            "Recall: 0.8824\n",
            "F1 Score: 0.8830\n",
            "mAP: 0.9315\n",
            "Confusion Matrix:\n",
            "[[117   0   1   4   0   0   2   1   0   0  12   0]\n",
            " [  0  67   0   0   0   0   0   1   1   0   0   0]\n",
            " [  1   0  59   0   1   0   2   0   0   0   7   1]\n",
            " [  0   0   1  27   0   0   0   1   0   0   6   0]\n",
            " [  1   0   0   0   4   0   0   0   0   0   1   0]\n",
            " [  0   0   0   0   0   1   0   0   0   0   0   0]\n",
            " [  0   0   1   0   0   0  94   0   0   0   6   1]\n",
            " [  1   4   0   0   0   0   0  62   1   0   1   0]\n",
            " [  1   1   0   0   0   0   0   0   9   0   1   0]\n",
            " [  0   0   0   0   0   0   0   0   0   3   0   0]\n",
            " [  3   0   9   3   0   0   3   0   0   0 136   3]\n",
            " [  0   0   1   3   0   0   3   0   0   0   0  96]]\n",
            "\n",
            "\n",
            "Validation Loss: 0.4640\n"
          ]
        },
        {
          "output_type": "stream",
          "name": "stderr",
          "text": [
            "/usr/local/lib/python3.11/dist-packages/torch/utils/data/dataloader.py:624: UserWarning: This DataLoader will create 4 worker processes in total. Our suggested max number of worker in current system is 2, which is smaller than what this DataLoader is going to create. Please be aware that excessive worker creation might get DataLoader running slow or even freeze, lower the worker number to avoid potential slowness/freeze if necessary.\n",
            "  warnings.warn(\n"
          ]
        },
        {
          "output_type": "stream",
          "name": "stdout",
          "text": [
            "Epoch [9/10], Train Loss: 0.1177\n",
            "Validation Metrics - Epoch 9:\n",
            "Accuracy: 86.54%\n",
            "Precision: 0.8706\n",
            "Recall: 0.8654\n",
            "F1 Score: 0.8639\n",
            "mAP: 0.9149\n",
            "Confusion Matrix:\n",
            "[[131   0   1   0   1   0   0   2   0   0   2   0]\n",
            " [  2  64   0   0   0   0   0   1   1   1   0   0]\n",
            " [  4   1  57   1   1   0   0   0   0   0   6   1]\n",
            " [  1   1   1  25   0   0   0   0   0   0   6   1]\n",
            " [  0   1   0   0   5   0   0   0   0   0   0   0]\n",
            " [  0   0   0   0   0   1   0   0   0   0   0   0]\n",
            " [  0   1   1   3   1   0  90   0   0   0   4   2]\n",
            " [  0   3   0   0   0   0   0  64   1   0   1   0]\n",
            " [  2   0   0   0   0   0   1   0   9   0   0   0]\n",
            " [  0   0   0   0   0   0   0   0   0   3   0   0]\n",
            " [ 31   0   6   3   0   0   2   0   0   0 111   4]\n",
            " [  0   0   0   1   0   0   0   0   0   0   0 102]]\n",
            "\n",
            "\n",
            "Validation Loss: 0.5816\n"
          ]
        },
        {
          "output_type": "stream",
          "name": "stderr",
          "text": [
            "/usr/local/lib/python3.11/dist-packages/torch/utils/data/dataloader.py:624: UserWarning: This DataLoader will create 4 worker processes in total. Our suggested max number of worker in current system is 2, which is smaller than what this DataLoader is going to create. Please be aware that excessive worker creation might get DataLoader running slow or even freeze, lower the worker number to avoid potential slowness/freeze if necessary.\n",
            "  warnings.warn(\n"
          ]
        },
        {
          "output_type": "stream",
          "name": "stdout",
          "text": [
            "Epoch [10/10], Train Loss: 0.1306\n",
            "Validation Metrics - Epoch 10:\n",
            "Accuracy: 85.88%\n",
            "Precision: 0.8658\n",
            "Recall: 0.8588\n",
            "F1 Score: 0.8593\n",
            "mAP: 0.9342\n",
            "Confusion Matrix:\n",
            "[[124   1   0   0   1   0   2   3   0   0   6   0]\n",
            " [  0  64   0   0   0   0   0   5   0   0   0   0]\n",
            " [  4   0  52   0   2   0   6   0   0   0   7   0]\n",
            " [  1   0   0  28   0   0   1   2   0   0   3   0]\n",
            " [  0   1   0   0   5   0   0   0   0   0   0   0]\n",
            " [  0   0   0   0   0   1   0   0   0   0   0   0]\n",
            " [  2   0   2   1   1   0  93   0   0   0   2   1]\n",
            " [  0   3   0   0   0   0   0  65   1   0   0   0]\n",
            " [  0   1   0   0   1   0   0   0   9   0   1   0]\n",
            " [  0   0   0   0   0   0   0   0   0   3   0   0]\n",
            " [  3   0  10   5   2   0  19   1   0   0 116   1]\n",
            " [  1   0   0   3   0   0   2   0   0   0   0  97]]\n",
            "\n",
            "\n",
            "Validation Loss: 0.5180\n"
          ]
        }
      ]
    },
    {
      "cell_type": "markdown",
      "source": [
        "# Accuracy"
      ],
      "metadata": {
        "id": "dZuunfD6yFNR"
      }
    },
    {
      "cell_type": "code",
      "source": [
        "import matplotlib.pyplot as plt\n",
        "\n",
        "plt.figure(figsize=(12, 5))\n",
        "plt.subplot(1, 2, 1)\n",
        "plt.plot(range(1, len(train_losses) + 1), train_losses, label='Train Loss')\n",
        "plt.plot(range(1, len(val_losses) + 1), val_losses, label='Validation Loss')\n",
        "plt.xlabel('Epoch')\n",
        "plt.ylabel('Loss')\n",
        "plt.title('Learning Curves - Loss')\n",
        "plt.legend()\n",
        "plt.grid(True)\n",
        "\n",
        "plt.subplot(1, 2, 2)\n",
        "plt.plot(range(1, len(val_accuracies) + 1), val_accuracies, label='Validation Accuracy')\n",
        "plt.xlabel('Epoch')\n",
        "plt.ylabel('Accuracy (%)')\n",
        "plt.title('Learning Curves - Accuracy')\n",
        "plt.legend()\n",
        "plt.grid(True)\n",
        "\n",
        "plt.tight_layout()\n",
        "plt.savefig(os.path.join(output_dir, \"learning_curves.png\"))\n",
        "plt.show()"
      ],
      "metadata": {
        "colab": {
          "base_uri": "https://localhost:8080/",
          "height": 370
        },
        "id": "7GRPfyDI0DL9",
        "outputId": "d4bbd13e-6ae7-41b3-8ae0-4889e54d7aba"
      },
      "execution_count": 20,
      "outputs": [
        {
          "output_type": "display_data",
          "data": {
            "text/plain": [
              "<Figure size 1200x500 with 2 Axes>"
            ],
            "image/png": "[encoded data removed]"
          },
          "metadata": {}
        }
      ]
    },
    {
      "cell_type": "code",
      "source": [
        "# Plot confusion matrix (using the last epoch's validation CM)\n",
        "plt.figure(figsize=(10, 8))\n",
        "plt.imshow(cm, interpolation='nearest', cmap=plt.cm.Blues)\n",
        "plt.title('Confusion Matrix - Validation Set (Last Epoch)')\n",
        "plt.colorbar()\n",
        "tick_marks = np.arange(num_classes)\n",
        "plt.xticks(tick_marks, val_dataset.classes, rotation=45)\n",
        "plt.yticks(tick_marks, val_dataset.classes)\n",
        "plt.xlabel('Predicted Label')\n",
        "plt.ylabel('True Label')\n",
        "for i in range(num_classes):\n",
        "    for j in range(num_classes):\n",
        "        plt.text(j, i, cm[i, j], ha='center', va='center', color='black')\n",
        "plt.tight_layout()\n",
        "plt.savefig(os.path.join(output_dir, \"confusion_matrix.png\"))\n",
        "plt.show()\n",
        "\n",
        "print(f\"Training complete. Best Validation Accuracy: {best_val_acc:.2f}%\")"
      ],
      "metadata": {
        "id": "NnJiICmvZOIu",
        "colab": {
          "base_uri": "https://localhost:8080/",
          "height": 789
        },
        "outputId": "db03680a-0da9-4e39-9659-b5baff781115"
      },
      "execution_count": 21,
      "outputs": [
        {
          "output_type": "display_data",
          "data": {
            "text/plain": [
              "<Figure size 1000x800 with 2 Axes>"
            ],
            "image/png": "[encoded data removed]"
          },
          "metadata": {}
        },
        {
          "output_type": "stream",
          "name": "stdout",
          "text": [
            "Training complete. Best Validation Accuracy: 88.76%\n"
          ]
        }
      ]
    },
    {
      "cell_type": "markdown",
      "source": [
        "# Saving Model"
      ],
      "metadata": {
        "id": "7Eb_ijCTyJQ1"
      }
    },
    {
      "cell_type": "code",
      "source": [
        "# Use an image size compatible with Inception V3 (299x299)\n",
        "dummy_input = torch.randn(1, 3, image_size, image_size).to(device)\n",
        "torch.onnx.export(\n",
        "    model,\n",
        "    dummy_input,\n",
        "    os.path.join(output_dir, \"efficientnet_b0_best.onnx\"),\n",
        "    verbose=True,\n",
        "    input_names=[\"input\"],\n",
        "    output_names=[\"output\"],\n",
        "    dynamic_axes={\"input\": {0: \"batch_size\"}, \"output\": {0: \"batch_size\"}},\n",
        "    opset_version=11,\n",
        ")\n",
        "print(\"Model exported to ONNX\")"
      ],
      "metadata": {
        "id": "zYOjhmwQy_v6",
        "colab": {
          "base_uri": "https://localhost:8080/"
        },
        "outputId": "4bb8b838-c03b-409e-a28a-bb8cf709d264"
      },
      "execution_count": 23,
      "outputs": [
        {
          "output_type": "stream",
          "name": "stdout",
          "text": [
            "Model exported to ONNX\n"
          ]
        }
      ]
    },
    {
      "cell_type": "code",
      "source": [],
      "metadata": {
        "id": "fyiOySXsy_yl"
      },
      "execution_count": 22,
      "outputs": []
    },
    {
      "cell_type": "code",
      "source": [],
      "metadata": {
        "id": "vDnRU2FEFh13"
      },
      "execution_count": 22,
      "outputs": []
    }
  ]
}